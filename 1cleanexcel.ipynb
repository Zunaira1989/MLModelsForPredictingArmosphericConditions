{
 "cells": [
  {
   "cell_type": "code",
   "execution_count": null,
   "id": "b5490b89-c2b7-4eb5-9f1a-b565e611d058",
   "metadata": {},
   "outputs": [],
   "source": [
    "### As mentioned by London Authority, NOx, PM10, PM2.5 and CO2 are the key pollutants.\n",
    "### This eliminates the unnecessary sheets in the 1st Excel and columns.\n",
    "\n",
    "import pandas as pd\n",
    " \n",
    "# Load the Excel file\n",
    "file_path = 'LAEI-2019-Emissions-Summary-including-Forecast.xlsx'\n",
    "xls = pd.ExcelFile(file_path, engine='openpyxl')\n",
    " \n",
    "# List all sheet names\n",
    "sheet_names = xls.sheet_names\n",
    "print(\"Sheet names:\", sheet_names)\n",
    " \n",
    "# Load the sheet named 'Emissions by Grid ID'\n",
    "df = pd.read_excel(file_path, sheet_name='Emissions by Grid ID', engine='openpyxl')\n",
    " \n",
    "# Filter the data to keep only rows related to 2019\n",
    "df_2019 = df[df['Year'] == 2019]\n",
    " \n",
    "# Remove specified columns\n",
    "columns_to_remove = ['bap', 'cd', 'c4h6', 'c6h6', 'ch4', 'co', 'hc', 'hcl', 'hg', 'n2o', 'nh3', 'nmvoc', 'pb', 'pcb', 'so2', 'Emissions Unit', 'Year']\n",
    "df_filtered = df_2019.drop(columns=columns_to_remove)\n",
    " \n",
    "# Save the filtered data as a CSV file\n",
    "df_filtered.to_csv('Emissions_by_Grid_ID_2019_filtered.csv', index=False)\n",
    " \n",
    "print(\"The sheet 'Emissions by Grid ID' has been saved as 'Emissions_by_Grid_ID_2019_filtered.csv' with only 2019 data and selected columns removed.\")\n",
    "\n",
    "\n"
   ]
  },
  {
   "cell_type": "code",
   "execution_count": null,
   "id": "47afae48-8f88-4de8-8f48-9c00885a3a83",
   "metadata": {},
   "outputs": [],
   "source": []
  },
  {
   "cell_type": "code",
   "execution_count": null,
   "id": "e693b0d3-36b9-4677-a836-e2adb2ffa49b",
   "metadata": {},
   "outputs": [],
   "source": []
  }
 ],
 "metadata": {
  "kernelspec": {
   "display_name": "Python 3 (ipykernel)",
   "language": "python",
   "name": "python3"
  },
  "language_info": {
   "codemirror_mode": {
    "name": "ipython",
    "version": 3
   },
   "file_extension": ".py",
   "mimetype": "text/x-python",
   "name": "python",
   "nbconvert_exporter": "python",
   "pygments_lexer": "ipython3",
   "version": "3.13.1"
  }
 },
 "nbformat": 4,
 "nbformat_minor": 5
}
